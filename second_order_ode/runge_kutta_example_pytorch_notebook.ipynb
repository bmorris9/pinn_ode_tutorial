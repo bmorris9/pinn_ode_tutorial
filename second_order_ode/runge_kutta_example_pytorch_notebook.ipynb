{
 "cells": [
  {
   "cell_type": "markdown",
   "id": "82e2737c",
   "metadata": {},
   "source": [
    "# Physics-Informed Neural Network Tutorial Example\n",
    "***\n",
    "### Adapted from Nascimento et al. 2020, _A tutorial on solving ordinary differential equations using Python and hybrid physics-informed neural network_, https://doi.org/10.1016/j.engappai.2020.103996\n",
    "### Original code from Fricke et al. 2020, _Python Implementation of Ordinary Differential Equations Solvers using Hybrid Physics-informed Neural Networks_, https://github.com/PML-UCF/pinn_ode_tutorial\n",
    "### Adapted for Jupyter Notebook by Benjamin Morris, 2022\n",
    "***"
   ]
  },
  {
   "cell_type": "markdown",
   "id": "c1ffc1ff",
   "metadata": {},
   "source": [
    "This tutorial shows how to create a hybrid physics-informed neural network (PINN) for solving ordinary differential equations (ODE). Additional detail is found in Nascimento et al.'s original 2020 paper."
   ]
  },
  {
   "cell_type": "markdown",
   "id": "0423ec88",
   "metadata": {},
   "source": [
    "## Setup\n",
    "### (Packages, Functions)\n",
    "<br>\n",
    "This section deals with importing required packages and defining functions. This includes setting up the network architecture and defining all relevant equations."
   ]
  },
  {
   "cell_type": "markdown",
   "id": "60930c6f",
   "metadata": {},
   "source": [
    "Import dependencies. In my case (Intel Macbook Pro 2017, MacOS Monterey V12.3), there is an issue where importing PyTorch/Tensorflow packages after Pandas and NumPy causes an issue. Importing ML packages first seems to resolve this issue."
   ]
  },
  {
   "cell_type": "code",
   "execution_count": 1,
   "id": "8c3656a7",
   "metadata": {},
   "outputs": [],
   "source": [
    "from torch.nn.parameter import Parameter\n",
    "from torch import (\n",
    "    linalg,\n",
    "    nn,\n",
    "    Tensor,\n",
    "    stack,\n",
    "    cat,\n",
    "    transpose,\n",
    "    optim,\n",
    "    zeros,\n",
    "    diag\n",
    "    )\n",
    "\n",
    "import pandas as pd\n",
    "import numpy as np\n",
    "\n",
    "import matplotlib.pyplot as plt\n",
    "import matplotlib as matplotlib\n"
   ]
  },
  {
   "cell_type": "markdown",
   "id": "458f4e8c",
   "metadata": {},
   "source": [
    "Define Recurrent Neural Network (RNN) architecture. The RNN implemented here is a specialized RNN architecture that implements numerical integration directly (via the RK cell class below)."
   ]
  },
  {
   "cell_type": "code",
   "execution_count": 2,
   "id": "8575d779",
   "metadata": {},
   "outputs": [],
   "source": [
    "class MyRNN(nn.Module):\n",
    "    def __init__(self, cell, **kwargs):\n",
    "        super(MyRNN, self).__init__()\n",
    "        self.cell = cell\n",
    "\n",
    "    def forward(self, inputs, initial_state):\n",
    "\n",
    "        bs, seq_sz, _ = inputs.shape\n",
    "        state = []\n",
    "        state.append(initial_state)\n",
    "        for t in range(1, seq_sz): \n",
    "            input = inputs[:, t-1, :]\n",
    "            state_t = self.cell.forward(input, state[t-1])\n",
    "            state.append(state[t-1]+state_t)\n",
    "\n",
    "        return stack((state),dim=1)\n",
    "    "
   ]
  },
  {
   "cell_type": "markdown",
   "id": "bd45b609",
   "metadata": {},
   "source": [
    "Define a Runge-Kutta integrator cell (RK4). It is possible that RK5 would give higher accuracy (at higher computational cost), but RK4 is sufficient for this example. However, RK45 would not be possible since the RK45 algorithm involves a logic gate, which cannot be converted to a neural architecture.\n",
    "\n",
    "Note that the damping matrix [C] is defined in the forward method of the RK integrator class, unlike the mass or stiffness matrix. **This allows [C] to be tuned during training**, thus makes this method suitable for system ID problems."
   ]
  },
  {
   "cell_type": "code",
   "execution_count": 3,
   "id": "36bc8dfe",
   "metadata": {},
   "outputs": [],
   "source": [
    "class RungeKuttaIntegratorCell(nn.Module):\n",
    "    def __init__(self, m, c, k, dt, **kwargs):\n",
    "        super(RungeKuttaIntegratorCell, self).__init__(**kwargs)\n",
    "        self.Minv = linalg.inv(diag(m))\n",
    "        self.c1 = Parameter(c[0])\n",
    "        self.c2 = Parameter(c[1])\n",
    "        self.c3 = Parameter(c[2])\n",
    "        \n",
    "        self.K    = Tensor([[k[0]+k[1],-k[1]],[-k[1],k[1]+k[2]]])\n",
    "        self.state_size    = 2*len(m)\n",
    "        self.A  = Tensor([0., 0.5, 0.5, 1.0])\n",
    "        self.B  = Tensor([[1/6, 2/6, 2/6, 1/6]])\n",
    "        self.dt = dt\n",
    "        \n",
    "    def forward(self, inputs, states):\n",
    "        C = stack((stack((self.c1+self.c2, -self.c2)), stack((-self.c2, self.c2+self.c3))))\n",
    "        y    = states[:, :2]\n",
    "        ydot = states[:, 2:]\n",
    "        \n",
    "        yddoti = self._fun(self.Minv, self.K, C, inputs, y, ydot)\n",
    "        yi     = y + self.A[0] * ydot * self.dt\n",
    "        ydoti  = ydot + self.A[0] * yddoti * self.dt\n",
    "        fn     = self._fun(self.Minv, self.K, C, inputs, yi, ydoti)\n",
    "        for j in range(1,4):\n",
    "            yn    = y + self.A[j] * ydot * self.dt\n",
    "            ydotn = ydot + self.A[j] * yddoti * self.dt\n",
    "            ydoti = cat([ydoti, ydotn], dim=0)\n",
    "            fn    = cat([fn, self._fun(self.Minv, self.K, C, inputs, yn, ydotn)], dim=0)\n",
    "\n",
    "        y    = linalg.matmul(self.B, ydoti) * self.dt\n",
    "        ydot =  linalg.matmul(self.B, fn) * self.dt\n",
    "\n",
    "        return cat(([y, ydot]), dim=-1)\n",
    "\n",
    "    def _fun(self, Minv, K, C, u, y, ydot):\n",
    "        return linalg.matmul(u - linalg.matmul(ydot, transpose(C, 0, 1)) - linalg.matmul(y, transpose (K, 0, 1)), transpose(Minv, 0, 1))\n",
    "\n"
   ]
  },
  {
   "cell_type": "markdown",
   "id": "ded10560",
   "metadata": {},
   "source": [
    "Define training loop. This function just consolidates the usual forward->loss->back propogation->optimization scheme for readability.\n",
    "\n",
    "Along with the loss function (specified as MSE later), another L1 error metric (i.e., mean absolute error, MAE) is defined and tracked, but not used for training. The MAE simply gives another error metric to look at alongside MSE."
   ]
  },
  {
   "cell_type": "code",
   "execution_count": 4,
   "id": "f5ebdd63",
   "metadata": {},
   "outputs": [],
   "source": [
    "def pinn_training_loop(n_epochs, optimizer, model, loss_fn, train, label, initial_state):\n",
    "    mae = nn.L1Loss()\n",
    "    for epoch in range(1, n_epochs + 1):\n",
    "        #Forward pass\n",
    "        output_train = model(train, initial_state)[:, :, :2]\n",
    "        loss_train = loss_fn(output_train, label)\n",
    "        mae_train = mae(output_train, label)\n",
    "\n",
    "        #Backward pass\n",
    "        optimizer.zero_grad()\n",
    "        loss_train.backward()\n",
    "        optimizer.step()\n",
    "\n",
    "        print(f\"Epoch {epoch}, Training loss {loss_train.item():.4e}, mae {mae_train.item():.4e}\")\n",
    "        "
   ]
  },
  {
   "cell_type": "markdown",
   "id": "8fbcd830",
   "metadata": {},
   "source": [
    "## Execution\n",
    "### (Training, Testing, Plotting)\n",
    "<br>\n",
    "This section implements the actual training and testing algorithms, as well as any plotting."
   ]
  },
  {
   "cell_type": "markdown",
   "id": "956e0a07",
   "metadata": {},
   "source": [
    "Define system matrices [M], [C], and [K]. This tutorial describes a 2DOF spring-mass-damper system coupled to rigid walls on either side.\n",
    "\n",
    "<img src=\"images/2DOF_system.png\" alt=\"2DOF spring-mass-damper system\" width=\"300\"/>"
   ]
  },
  {
   "cell_type": "code",
   "execution_count": 5,
   "id": "9ac10476",
   "metadata": {},
   "outputs": [],
   "source": [
    "if __name__ == \"__main__\":\n",
    "    # masses, spring coefficients, and damping coefficients\n",
    "    m = Tensor([20.0, 10.0])\n",
    "    k = Tensor([2e3, 1e3, 5e3])\n",
    "    c = Tensor([10.0, 10.0, 10.0]) # initial guess for damping coefficient\n",
    "    "
   ]
  },
  {
   "cell_type": "markdown",
   "id": "7c453b0a",
   "metadata": {},
   "source": [
    "Import training data"
   ]
  },
  {
   "cell_type": "code",
   "execution_count": 6,
   "id": "c1819897",
   "metadata": {},
   "outputs": [],
   "source": [
    "    # data\n",
    "    df = pd.read_csv('./data/data.csv')\n",
    "    t  = df[['t']].values\n",
    "    dt = (t[1] - t[0])[0]\n",
    "    utrain = df[['u0', 'u1']].values[np.newaxis, :, :]\n",
    "    ytrain = df[['yT0', 'yT1']].values[np.newaxis, :, :]\n",
    "    t = Tensor(t)\n",
    "    utrain = Tensor(utrain)\n",
    "    ytrain = Tensor(ytrain)\n",
    "    "
   ]
  },
  {
   "cell_type": "markdown",
   "id": "d822677e",
   "metadata": {},
   "source": [
    "Initialize the system at rest"
   ]
  },
  {
   "cell_type": "code",
   "execution_count": 7,
   "id": "667669da",
   "metadata": {},
   "outputs": [
    {
     "name": "stdout",
     "output_type": "stream",
     "text": [
      "tensor([[0., 0., 0., 0.]])\n"
     ]
    }
   ],
   "source": [
    "    # Initial state of the system \n",
    "    initial_state = zeros((1,2 * len(m)))\n",
    "    print(initial_state)\n",
    "    "
   ]
  },
  {
   "cell_type": "markdown",
   "id": "efab70f6",
   "metadata": {},
   "source": [
    "Build network architecture using the RK cell. Passing the RK cell to MyRNN() allows the RK cell to be used like a typical RNN architecture (I think). Use the initial model to predict the response before training."
   ]
  },
  {
   "cell_type": "code",
   "execution_count": 8,
   "id": "4e46a323",
   "metadata": {},
   "outputs": [],
   "source": [
    "    rkCell = RungeKuttaIntegratorCell(m=m, c=c, k=k, dt=dt)\n",
    "    model = MyRNN(cell=rkCell)\n",
    "    \n",
    "    #prediction results before training\n",
    "    yPred_before = model(utrain, initial_state)[0, :, :]\n",
    "    yPred_before = yPred_before.detach().numpy()[:,:2]\n",
    "    "
   ]
  },
  {
   "cell_type": "markdown",
   "id": "8ad381ec",
   "metadata": {},
   "source": [
    "Train the model using the pinn_training_loop() function. Make a prediction of the response after training."
   ]
  },
  {
   "cell_type": "code",
   "execution_count": 9,
   "id": "634d9da9",
   "metadata": {},
   "outputs": [
    {
     "name": "stdout",
     "output_type": "stream",
     "text": [
      "Epoch 1, Training loss 1.1535e-08, mae 7.9121e-05\n",
      "Epoch 2, Training loss 3.1196e-09, mae 2.8909e-05\n",
      "Epoch 3, Training loss 3.0777e-09, mae 2.8707e-05\n",
      "Epoch 4, Training loss 3.0358e-09, mae 2.8505e-05\n",
      "Epoch 5, Training loss 2.9939e-09, mae 2.8306e-05\n",
      "Epoch 6, Training loss 2.9520e-09, mae 2.8108e-05\n",
      "Epoch 7, Training loss 2.9102e-09, mae 2.7912e-05\n",
      "Epoch 8, Training loss 2.8684e-09, mae 2.7719e-05\n",
      "Epoch 9, Training loss 2.8266e-09, mae 2.7527e-05\n",
      "Epoch 10, Training loss 2.7848e-09, mae 2.7338e-05\n",
      "Epoch 11, Training loss 2.7431e-09, mae 2.7151e-05\n",
      "Epoch 12, Training loss 2.7014e-09, mae 2.6964e-05\n",
      "Epoch 13, Training loss 2.6597e-09, mae 2.6778e-05\n",
      "Epoch 14, Training loss 2.6180e-09, mae 2.6592e-05\n",
      "Epoch 15, Training loss 2.5764e-09, mae 2.6408e-05\n",
      "Epoch 16, Training loss 2.5348e-09, mae 2.6226e-05\n",
      "Epoch 17, Training loss 2.4932e-09, mae 2.6044e-05\n",
      "Epoch 18, Training loss 2.4517e-09, mae 2.5862e-05\n",
      "Epoch 19, Training loss 2.4102e-09, mae 2.5681e-05\n",
      "Epoch 20, Training loss 2.3688e-09, mae 2.5502e-05\n",
      "Epoch 21, Training loss 2.3274e-09, mae 2.5325e-05\n",
      "Epoch 22, Training loss 2.2861e-09, mae 2.5151e-05\n",
      "Epoch 23, Training loss 2.2448e-09, mae 2.4978e-05\n",
      "Epoch 24, Training loss 2.2035e-09, mae 2.4806e-05\n",
      "Epoch 25, Training loss 2.1623e-09, mae 2.4635e-05\n",
      "Epoch 26, Training loss 2.1212e-09, mae 2.4465e-05\n",
      "Epoch 27, Training loss 2.0801e-09, mae 2.4297e-05\n",
      "Epoch 28, Training loss 2.0392e-09, mae 2.4130e-05\n",
      "Epoch 29, Training loss 1.9982e-09, mae 2.3965e-05\n",
      "Epoch 30, Training loss 1.9574e-09, mae 2.3800e-05\n",
      "Epoch 31, Training loss 1.9166e-09, mae 2.3638e-05\n",
      "Epoch 32, Training loss 1.8760e-09, mae 2.3478e-05\n",
      "Epoch 33, Training loss 1.8354e-09, mae 2.3318e-05\n",
      "Epoch 34, Training loss 1.7949e-09, mae 2.3160e-05\n",
      "Epoch 35, Training loss 1.7546e-09, mae 2.3002e-05\n",
      "Epoch 36, Training loss 1.7143e-09, mae 2.2845e-05\n",
      "Epoch 37, Training loss 1.6742e-09, mae 2.2689e-05\n",
      "Epoch 38, Training loss 1.6342e-09, mae 2.2532e-05\n",
      "Epoch 39, Training loss 1.5943e-09, mae 2.2375e-05\n",
      "Epoch 40, Training loss 1.5546e-09, mae 2.2218e-05\n",
      "Epoch 41, Training loss 1.5150e-09, mae 2.2058e-05\n",
      "Epoch 42, Training loss 1.4756e-09, mae 2.1897e-05\n",
      "Epoch 43, Training loss 1.4364e-09, mae 2.1734e-05\n",
      "Epoch 44, Training loss 1.3974e-09, mae 2.1569e-05\n",
      "Epoch 45, Training loss 1.3586e-09, mae 2.1403e-05\n",
      "Epoch 46, Training loss 1.3200e-09, mae 2.1235e-05\n",
      "Epoch 47, Training loss 1.2816e-09, mae 2.1066e-05\n",
      "Epoch 48, Training loss 1.2435e-09, mae 2.0895e-05\n",
      "Epoch 49, Training loss 1.2057e-09, mae 2.0723e-05\n",
      "Epoch 50, Training loss 1.1681e-09, mae 2.0550e-05\n",
      "Epoch 51, Training loss 1.1309e-09, mae 2.0374e-05\n",
      "Epoch 52, Training loss 1.0940e-09, mae 2.0196e-05\n",
      "Epoch 53, Training loss 1.0574e-09, mae 2.0014e-05\n",
      "Epoch 54, Training loss 1.0212e-09, mae 1.9830e-05\n",
      "Epoch 55, Training loss 9.8543e-10, mae 1.9644e-05\n",
      "Epoch 56, Training loss 9.5008e-10, mae 1.9455e-05\n",
      "Epoch 57, Training loss 9.1519e-10, mae 1.9263e-05\n",
      "Epoch 58, Training loss 8.8081e-10, mae 1.9068e-05\n",
      "Epoch 59, Training loss 8.4694e-10, mae 1.8869e-05\n",
      "Epoch 60, Training loss 8.1365e-10, mae 1.8668e-05\n",
      "Epoch 61, Training loss 7.8095e-10, mae 1.8464e-05\n",
      "Epoch 62, Training loss 7.4890e-10, mae 1.8256e-05\n",
      "Epoch 63, Training loss 7.1753e-10, mae 1.8044e-05\n",
      "Epoch 64, Training loss 6.8689e-10, mae 1.7831e-05\n",
      "Epoch 65, Training loss 6.5702e-10, mae 1.7615e-05\n",
      "Epoch 66, Training loss 6.2797e-10, mae 1.7394e-05\n",
      "Epoch 67, Training loss 5.9978e-10, mae 1.7172e-05\n",
      "Epoch 68, Training loss 5.7250e-10, mae 1.6948e-05\n",
      "Epoch 69, Training loss 5.4618e-10, mae 1.6723e-05\n",
      "Epoch 70, Training loss 5.2087e-10, mae 1.6496e-05\n",
      "Epoch 71, Training loss 4.9660e-10, mae 1.6268e-05\n",
      "Epoch 72, Training loss 4.7343e-10, mae 1.6037e-05\n",
      "Epoch 73, Training loss 4.5139e-10, mae 1.5807e-05\n",
      "Epoch 74, Training loss 4.3051e-10, mae 1.5577e-05\n",
      "Epoch 75, Training loss 4.1083e-10, mae 1.5347e-05\n",
      "Epoch 76, Training loss 3.9238e-10, mae 1.5119e-05\n",
      "Epoch 77, Training loss 3.7516e-10, mae 1.4892e-05\n",
      "Epoch 78, Training loss 3.5918e-10, mae 1.4669e-05\n",
      "Epoch 79, Training loss 3.4444e-10, mae 1.4453e-05\n",
      "Epoch 80, Training loss 3.3094e-10, mae 1.4244e-05\n",
      "Epoch 81, Training loss 3.1864e-10, mae 1.4040e-05\n",
      "Epoch 82, Training loss 3.0752e-10, mae 1.3842e-05\n",
      "Epoch 83, Training loss 2.9753e-10, mae 1.3653e-05\n",
      "Epoch 84, Training loss 2.8863e-10, mae 1.3476e-05\n",
      "Epoch 85, Training loss 2.8074e-10, mae 1.3311e-05\n",
      "Epoch 86, Training loss 2.7381e-10, mae 1.3161e-05\n",
      "Epoch 87, Training loss 2.6776e-10, mae 1.3024e-05\n",
      "Epoch 88, Training loss 2.6251e-10, mae 1.2899e-05\n",
      "Epoch 89, Training loss 2.5800e-10, mae 1.2790e-05\n",
      "Epoch 90, Training loss 2.5413e-10, mae 1.2697e-05\n",
      "Epoch 91, Training loss 2.5084e-10, mae 1.2615e-05\n",
      "Epoch 92, Training loss 2.4806e-10, mae 1.2544e-05\n",
      "Epoch 93, Training loss 2.4571e-10, mae 1.2484e-05\n",
      "Epoch 94, Training loss 2.4373e-10, mae 1.2435e-05\n",
      "Epoch 95, Training loss 2.4208e-10, mae 1.2396e-05\n",
      "Epoch 96, Training loss 2.4069e-10, mae 1.2363e-05\n",
      "Epoch 97, Training loss 2.3953e-10, mae 1.2335e-05\n",
      "Epoch 98, Training loss 2.3855e-10, mae 1.2311e-05\n",
      "Epoch 99, Training loss 2.3773e-10, mae 1.2290e-05\n",
      "Epoch 100, Training loss 2.3704e-10, mae 1.2274e-05\n"
     ]
    }
   ],
   "source": [
    "    #PINN training\n",
    "    pinn_training_loop(\n",
    "        n_epochs = 100,\n",
    "        optimizer = optim.RMSprop(model.parameters(), lr=1e4),\n",
    "        model = model,\n",
    "        loss_fn = nn.MSELoss(),\n",
    "        train = utrain,\n",
    "        label = ytrain,\n",
    "        initial_state=initial_state\n",
    "        )\n",
    "\n",
    "    #prediction results after training\n",
    "    yPred = model(utrain, initial_state) [0, :, :]\n",
    "    yPred = yPred.detach().numpy()[:,:2]\n",
    "    "
   ]
  },
  {
   "cell_type": "markdown",
   "id": "c9e1af3a",
   "metadata": {},
   "source": [
    "Plot the pre-trained (red), post-trained (blue), and noisy training data (grey) on the same plot for comparison purposes."
   ]
  },
  {
   "cell_type": "code",
   "execution_count": 10,
   "id": "cfec6ee1",
   "metadata": {},
   "outputs": [
    {
     "data": {
      "image/png": "[encoded data removed]",
      "text/plain": [
       "<Figure size 432x288 with 1 Axes>"
      ]
     },
     "metadata": {
      "needs_background": "light"
     },
     "output_type": "display_data"
    }
   ],
   "source": [
    "    # plotting prediction results\n",
    "    plt.plot(t, ytrain[0, :, :], 'gray')\n",
    "    plt.plot(t, yPred_before, 'r', label='before training')\n",
    "    plt.plot(t, yPred, 'b', label='after training')\n",
    "    plt.xlabel('t')\n",
    "    plt.ylabel('y')\n",
    "    plt.grid('on')\n",
    "    plt.legend()\n",
    "    plt.show()\n"
   ]
  }
 ],
 "metadata": {
  "kernelspec": {
   "display_name": "base (root)",
   "language": "python",
   "name": "base"
  },
  "language_info": {
   "codemirror_mode": {
    "name": "ipython",
    "version": 3
   },
   "file_extension": ".py",
   "mimetype": "text/x-python",
   "name": "python",
   "nbconvert_exporter": "python",
   "pygments_lexer": "ipython3",
   "version": "3.9.12"
  }
 },
 "nbformat": 4,
 "nbformat_minor": 5
}
